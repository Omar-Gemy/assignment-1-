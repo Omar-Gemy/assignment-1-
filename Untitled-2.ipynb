{
 "cells": [
  {
   "cell_type": "markdown",
   "metadata": {},
   "source": [
    "assignment (1)"
   ]
  },
  {
   "cell_type": "markdown",
   "metadata": {},
   "source": [
    "Section 1: Printing Messages \n",
    "1. Write a Python program to print the following message on the screen: \n",
    "\"Hello, Python learners! Today we start our coding journey.\" \n",
    "Challenge: Print a multi-line message using triple quotes that includes your name and \n",
    "favorite programming language."
   ]
  },
  {
   "cell_type": "code",
   "execution_count": 4,
   "metadata": {},
   "outputs": [
    {
     "name": "stdout",
     "output_type": "stream",
     "text": [
      "Hello omar gamal , Python learners! Today we start our coding journey.with python\n"
     ]
    }
   ],
   "source": [
    "my_name=\"omar gamal\"\n",
    "cooding_language=\"python\"\n",
    "print(f'''Hello {my_name} , Python learners! Today we start our coding journey.with {cooding_language}''' )"
   ]
  },
  {
   "cell_type": "markdown",
   "metadata": {},
   "source": [
    "Section 2: Variables and Data Types \n",
    "1. Create a variable called age and assign it your age. Print a message that says, \"I am \n",
    "[age] years old.\" \n",
    "Challenge: Create three variables of different data types (integer, float, and string). Print \n",
    "each variable with a description of its data type. "
   ]
  },
  {
   "cell_type": "code",
   "execution_count": 8,
   "metadata": {},
   "outputs": [
    {
     "name": "stdout",
     "output_type": "stream",
     "text": [
      "I am 20 years old.\n",
      "I am 20.0 years old.\n",
      "I am 20 years old.\n"
     ]
    }
   ],
   "source": [
    "age=20 \n",
    "print(f\"I am {age} years old.\") #integer\n",
    "print(f\"I am {float(age)} years old.\") #float\n",
    "print(f\"I am {str(age)} years old.\") #string"
   ]
  },
  {
   "cell_type": "markdown",
   "metadata": {},
   "source": [
    "Section 3: Working with Strings \n",
    "1. Given the string text = \"Python is amazing\", write a program to extract and print the \n",
    "word \"amazing\" from it. \n",
    "Challenge: Concatenate two strings, first_name and last_name, with a space in between, and \n",
    "print the full name in uppercase."
   ]
  },
  {
   "cell_type": "code",
   "execution_count": 12,
   "metadata": {},
   "outputs": [
    {
     "name": "stdout",
     "output_type": "stream",
     "text": [
      "amazing\n",
      "OMAR GAMAL\n"
     ]
    }
   ],
   "source": [
    "text = \"Python is amazing\"\n",
    "list_text = text.split()\n",
    "print(list_text[2])\n",
    "first_name=\"omar\"\n",
    "last_name=\"gamal\"\n",
    "print(first_name.upper(),last_name.upper(),sep=\" \")"
   ]
  },
  {
   "cell_type": "markdown",
   "metadata": {},
   "source": [
    "Section 4: Basic Operations \n",
    "1. Write a program to calculate the area of a rectangle with a width of 5 and a height of \n",
    "10. \n",
    "Challenge: Create two numbers, a = 20 and b = 7, and print the result of each arithmetic \n",
    "operation: addition, subtraction, multiplication, division, and modulo. "
   ]
  },
  {
   "cell_type": "code",
   "execution_count": 14,
   "metadata": {},
   "outputs": [
    {
     "name": "stdout",
     "output_type": "stream",
     "text": [
      "area is : 50\n",
      "addition is : 27\n",
      "subtraction is : 13\n",
      "multiplication is : 140\n",
      "division is : 2.857142857142857\n",
      "modulo is : 6\n"
     ]
    }
   ],
   "source": [
    "width = 5\n",
    "height = 10\n",
    "area = width * height \n",
    "print(f\"area is : {area}\")\n",
    "a = 20 \n",
    "b = 7\n",
    "addition=a+b\n",
    "print(f\"addition is : {addition}\")\n",
    "subtraction=a-b\n",
    "print(f\"subtraction is : {subtraction}\")\n",
    "multiplication=a*b\n",
    "print(f\"multiplication is : {multiplication}\")\n",
    "division=a/b\n",
    "print(f\"division is : {division}\")\n",
    "modulo=a%b\n",
    "print(f\"modulo is : {modulo}\")"
   ]
  },
  {
   "cell_type": "markdown",
   "metadata": {},
   "source": [
    "Section 5: Lists and Tuples \n",
    "1. Create a list of five of your favorite foods. Print the entire list, then print the third \n",
    "item in the list. \n",
    "Challenge: Convert the list into a tuple, and try to change the first item in the tuple. Observe \n",
    "and explain the result. "
   ]
  },
  {
   "cell_type": "code",
   "execution_count": 18,
   "metadata": {},
   "outputs": [
    {
     "name": "stdout",
     "output_type": "stream",
     "text": [
      "favorite foods :  ['noodles', 'beef', 'french fries', 'hawawsh', 'shawerma']\n",
      "french fries\n"
     ]
    }
   ],
   "source": [
    "favorite_foods = [\"noodles\",\"beef\",\"french fries\",\"hawawsh\",\"shawerma\"]\n",
    "print(\"favorite foods : \",favorite_foods)\n",
    "print(favorite_foods[2])\n",
    "favorite_foods_tuple=tuple(favorite_foods)\n",
    "#We cant update or change the tuple and if we did it will be eror"
   ]
  },
  {
   "cell_type": "markdown",
   "metadata": {},
   "source": [
    "Section 6: String Manipulation and Slicing \n",
    "1. Given the string sentence = \"Learning Python is fun!\", write a program to slice and \n",
    "print the word \"Python\" from it. \n",
    "Challenge: Replace the word \"fun\" with \"awesome\" in the sentence and print the new \n",
    "sentence. "
   ]
  },
  {
   "cell_type": "code",
   "execution_count": 21,
   "metadata": {},
   "outputs": [
    {
     "name": "stdout",
     "output_type": "stream",
     "text": [
      "Python\n",
      "Learning Python is awesome\n"
     ]
    }
   ],
   "source": [
    "sentence = \"Learning Python is fun!\"\n",
    "sentence_list=sentence.split()\n",
    "print(sentence_list[1])\n",
    "sentence_list[3]=\"awesome\"\n",
    "print(\" \".join (sentence_list))"
   ]
  },
  {
   "cell_type": "markdown",
   "metadata": {},
   "source": [
    "Section 7: Dictionaries \n",
    "1. Create a dictionary called student with the keys name, age, and grade. Assign values \n",
    "to each key and print the dictionary. \n",
    "Challenge: Add a new key city to the dictionary and set it to any city name. Print the \n",
    "updated dictionary."
   ]
  },
  {
   "cell_type": "code",
   "execution_count": 1,
   "metadata": {},
   "outputs": [
    {
     "name": "stdout",
     "output_type": "stream",
     "text": [
      "{'name': 'omar gamal', 'age': 20, 'grade': 'A+'}\n",
      "{'name': 'omar gamal', 'age': 20, 'grade': 'A+', 'city': 'Giza'}\n"
     ]
    }
   ],
   "source": [
    "student =  {\"name\":\"omar gamal\", \"age\" : 20 , \"grade\":\"A+\"}\n",
    "print(student)\n",
    "student[\"city\"]=\"Giza\"\n",
    "print(student)"
   ]
  },
  {
   "cell_type": "markdown",
   "metadata": {},
   "source": [
    "Section8: Basic Arithmetic Operations \n",
    "1. Write a program that takes two numbers from the user and prints their sum, \n",
    "difference, product, and division result. \n",
    "Challenge: Use the modulo operator to check if the first number is divisible by the second \n",
    "number, and print the result as \"Divisible\" or \"Not Divisible\"."
   ]
  },
  {
   "cell_type": "code",
   "execution_count": 7,
   "metadata": {},
   "outputs": [
    {
     "name": "stdout",
     "output_type": "stream",
     "text": [
      "sum is 6 \n",
      "difference is -2 \n",
      "product is 8 \n",
      "division is 0.5 \n",
      "Not Divisible\n"
     ]
    }
   ],
   "source": [
    "num1 = int(input('please enter first number : '))\n",
    "num2 = int(input('please enter second number : '))\n",
    "sum=num1+num2\n",
    "difference =num1-num2\n",
    "product =num1*num2\n",
    "division =num1/num2\n",
    "print(f\"sum is {sum} \")\n",
    "print(f\"difference is {difference} \")\n",
    "print(f\"product is {product} \")\n",
    "print(f\"division is {division} \")\n",
    "if num1 % num2 == 0:\n",
    "    print(\"Divisible\")\n",
    "else : \n",
    "    print(\"Not Divisible\")\n",
    "\n"
   ]
  }
 ],
 "metadata": {
  "kernelspec": {
   "display_name": "Python 3",
   "language": "python",
   "name": "python3"
  },
  "language_info": {
   "codemirror_mode": {
    "name": "ipython",
    "version": 3
   },
   "file_extension": ".py",
   "mimetype": "text/x-python",
   "name": "python",
   "nbconvert_exporter": "python",
   "pygments_lexer": "ipython3",
   "version": "3.13.0"
  }
 },
 "nbformat": 4,
 "nbformat_minor": 2
}
